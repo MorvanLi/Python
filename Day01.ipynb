{
 "cells": [
  {
   "cell_type": "markdown",
   "id": "6aa105bc",
   "metadata": {},
   "source": [
    "### 猜数字"
   ]
  },
  {
   "cell_type": "code",
   "execution_count": 6,
   "id": "cbfb3652",
   "metadata": {},
   "outputs": [
    {
     "name": "stdout",
     "output_type": "stream",
     "text": [
      "请输入: 50\n",
      "大一点\n",
      "请输入: 75\n",
      "小一点\n",
      "请输入: 66\n",
      "小一点\n",
      "请输入: 60\n",
      "大一点\n",
      "请输入: 64\n",
      "小一点\n",
      "请输入: 62\n",
      "恭喜你猜对了!\n",
      "你总共猜了6次\n"
     ]
    }
   ],
   "source": [
    "import random\n",
    "\n",
    "answer = random.randint(1, 100)\n",
    "counter = 0\n",
    "while True:\n",
    "    counter += 1\n",
    "    number = int(input('请输入: '))\n",
    "    if number < answer:\n",
    "        print('大一点')\n",
    "    elif number > answer:\n",
    "        print('小一点')\n",
    "    else:\n",
    "        print('恭喜你猜对了!')\n",
    "        break\n",
    "print('你总共猜了%d次' % counter)\n",
    "if counter > 7:\n",
    "    print('你的智商余额明显不足')"
   ]
  },
  {
   "cell_type": "markdown",
   "id": "04f9a46f",
   "metadata": {},
   "source": [
    "break关键字来提前终止循环，需要注意的是break只能终止它所在的那个循环，这一点在使用嵌套的循环结构（下面会讲到）需要引起注意。\n",
    "除了break之外，还有另一个关键字是continue，它可以用来放弃本次循环后续的代码直接让循环进入下一轮"
   ]
  },
  {
   "cell_type": "markdown",
   "id": "d5a99a7e",
   "metadata": {},
   "source": [
    "### 乘法口诀表"
   ]
  },
  {
   "cell_type": "code",
   "execution_count": 9,
   "id": "ec86de73",
   "metadata": {},
   "outputs": [
    {
     "name": "stdout",
     "output_type": "stream",
     "text": [
      "1*1=1\t\n",
      "2*1=2\t2*2=4\t\n",
      "3*1=3\t3*2=6\t3*3=9\t\n",
      "4*1=4\t4*2=8\t4*3=12\t4*4=16\t\n",
      "5*1=5\t5*2=10\t5*3=15\t5*4=20\t5*5=25\t\n",
      "6*1=6\t6*2=12\t6*3=18\t6*4=24\t6*5=30\t6*6=36\t\n",
      "7*1=7\t7*2=14\t7*3=21\t7*4=28\t7*5=35\t7*6=42\t7*7=49\t\n",
      "8*1=8\t8*2=16\t8*3=24\t8*4=32\t8*5=40\t8*6=48\t8*7=56\t8*8=64\t\n",
      "9*1=9\t9*2=18\t9*3=27\t9*4=36\t9*5=45\t9*6=54\t9*7=63\t9*8=72\t9*9=81\t\n"
     ]
    }
   ],
   "source": [
    "for i in range(1, 10):\n",
    "    for j in range(1, i + 1):\n",
    "        print(f\"{i}*{j}={i * j}\", end='\\t')\n",
    "    print()"
   ]
  },
  {
   "cell_type": "markdown",
   "id": "d5330345",
   "metadata": {},
   "source": [
    "### 输入一个正整数判断是不是素数"
   ]
  },
  {
   "cell_type": "code",
   "execution_count": 14,
   "id": "de0280cb",
   "metadata": {},
   "outputs": [
    {
     "name": "stdout",
     "output_type": "stream",
     "text": [
      "Please input an interger number:７\n",
      "7是素数\n"
     ]
    }
   ],
   "source": [
    "from math import sqrt\n",
    "\n",
    "num = int(input('Please input an interger number:'))\n",
    "end = int(sqrt(num))\n",
    "is_prime = True\n",
    "for i in range(2, end+1):\n",
    "    if num % i == 0:\n",
    "        is_prime = False\n",
    "        break\n",
    "if is_prime and num != 1:\n",
    "    print(f\"{num}是素数\")\n",
    "else:\n",
    "    print(f\"{num}不是素数\")\n",
    "    \n"
   ]
  },
  {
   "cell_type": "markdown",
   "id": "2c538fe2",
   "metadata": {},
   "source": [
    "### 打印如下所示的三角形图案"
   ]
  },
  {
   "cell_type": "code",
   "execution_count": 23,
   "id": "530fb6c4",
   "metadata": {},
   "outputs": [
    {
     "name": "stdout",
     "output_type": "stream",
     "text": [
      "Please input an interger row:5\n"
     ]
    }
   ],
   "source": [
    "row = int(input('Please input an interger row:'))"
   ]
  },
  {
   "cell_type": "code",
   "execution_count": 25,
   "id": "ccadea1b",
   "metadata": {},
   "outputs": [
    {
     "name": "stdout",
     "output_type": "stream",
     "text": [
      "*\n",
      "**\n",
      "***\n",
      "****\n",
      "*****\n"
     ]
    }
   ],
   "source": [
    "for i in range(row):\n",
    "    for _ in range(i+1):\n",
    "        print('*', end='')\n",
    "    print()"
   ]
  },
  {
   "cell_type": "code",
   "execution_count": 28,
   "id": "2cf9deb7",
   "metadata": {},
   "outputs": [
    {
     "name": "stdout",
     "output_type": "stream",
     "text": [
      "    *\n",
      "   ***\n",
      "  *****\n",
      " *******\n",
      "*********\n"
     ]
    }
   ],
   "source": [
    "for i in range(row):\n",
    "    for _ in range(row-i-1):\n",
    "        print(' ', end='')\n",
    "    for _ in range(2*i+1):\n",
    "        print('*', end='')\n",
    "    print()"
   ]
  },
  {
   "cell_type": "markdown",
   "id": "7b76148a",
   "metadata": {},
   "source": [
    "# 命名规范"
   ]
  },
  {
   "cell_type": "markdown",
   "id": "b496c40e",
   "metadata": {},
   "source": [
    "## 模块"
   ]
  },
  {
   "cell_type": "markdown",
   "id": "be7d5e78",
   "metadata": {},
   "source": [
    "模块尽量使用小写命名，首字母保持小写，尽量不要用下划线(除非多个单词，且数量不多的情况)"
   ]
  },
  {
   "cell_type": "raw",
   "id": "c80702e7",
   "metadata": {},
   "source": [
    "# 正确的模块名\n",
    "import decoder\n",
    "import html_parser\n",
    "\n",
    "# 不推荐的模块名\n",
    "import Decoder"
   ]
  },
  {
   "cell_type": "markdown",
   "id": "f1139ee8",
   "metadata": {},
   "source": [
    "## 类名"
   ]
  },
  {
   "cell_type": "markdown",
   "id": "e6ed08f3",
   "metadata": {},
   "source": [
    "类名使用驼峰(CamelCase)命名风格，首字母大写，私有类可用一个下划线开头"
   ]
  },
  {
   "cell_type": "raw",
   "id": "a7dd7572",
   "metadata": {},
   "source": [
    "class Farm():\n",
    "    pass\n",
    "\n",
    "class AnimalFarm(Farm):\n",
    "    pass\n",
    "\n",
    "class _PrivateFarm(Farm):\n",
    "    pass"
   ]
  },
  {
   "cell_type": "markdown",
   "id": "b078d4d9",
   "metadata": {},
   "source": [
    "## 函数"
   ]
  },
  {
   "cell_type": "markdown",
   "id": "b6378e70",
   "metadata": {},
   "source": [
    "函数名一律小写，如有多个单词，用下划线隔开"
   ]
  },
  {
   "cell_type": "raw",
   "id": "a0b7e587",
   "metadata": {},
   "source": [
    "def run():\n",
    "    pass\n",
    "\n",
    "def run_with_env():\n",
    "    pass"
   ]
  },
  {
   "cell_type": "markdown",
   "id": "6a95a5b8",
   "metadata": {},
   "source": [
    "私有函数在函数前加一个下划线_"
   ]
  },
  {
   "cell_type": "raw",
   "id": "9795cbb0",
   "metadata": {},
   "source": [
    "class Person():\n",
    "\n",
    "    def _private_func():\n",
    "        pass"
   ]
  },
  {
   "cell_type": "markdown",
   "id": "074ab8e8",
   "metadata": {},
   "source": [
    "## 变量名"
   ]
  },
  {
   "cell_type": "markdown",
   "id": "0896774d",
   "metadata": {},
   "source": [
    "变量名尽量小写, 如有多个单词，用下划线隔开"
   ]
  },
  {
   "cell_type": "raw",
   "id": "790d01a9",
   "metadata": {},
   "source": [
    "if __name__ == '__main__':\n",
    "    count = 0\n",
    "    school_name = ''"
   ]
  },
  {
   "cell_type": "markdown",
   "id": "68aa2040",
   "metadata": {},
   "source": [
    "常量采用全大写，如有多个单词，使用下划线隔开"
   ]
  },
  {
   "cell_type": "raw",
   "id": "73a16496",
   "metadata": {},
   "source": [
    "MAX_CLIENT = 100\n",
    "MAX_CONNECTION = 1000\n",
    "CONNECTION_TIMEOUT = 600"
   ]
  },
  {
   "cell_type": "code",
   "execution_count": null,
   "id": "b33149b1",
   "metadata": {},
   "outputs": [],
   "source": []
  }
 ],
 "metadata": {
  "kernelspec": {
   "display_name": "Python 3",
   "language": "python",
   "name": "python3"
  },
  "language_info": {
   "codemirror_mode": {
    "name": "ipython",
    "version": 3
   },
   "file_extension": ".py",
   "mimetype": "text/x-python",
   "name": "python",
   "nbconvert_exporter": "python",
   "pygments_lexer": "ipython3",
   "version": "3.6.9"
  },
  "toc": {
   "base_numbering": 1,
   "nav_menu": {},
   "number_sections": true,
   "sideBar": true,
   "skip_h1_title": false,
   "title_cell": "Table of Contents",
   "title_sidebar": "Contents",
   "toc_cell": false,
   "toc_position": {},
   "toc_section_display": true,
   "toc_window_display": false
  }
 },
 "nbformat": 4,
 "nbformat_minor": 5
}
